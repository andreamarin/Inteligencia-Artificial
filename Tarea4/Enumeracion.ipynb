{
 "cells": [
  {
   "cell_type": "code",
   "execution_count": 4,
   "metadata": {},
   "outputs": [],
   "source": [
    "import numpy as np\n",
    "from numpy.linalg import matrix_power as mpow"
   ]
  },
  {
   "cell_type": "code",
   "execution_count": 5,
   "metadata": {},
   "outputs": [
    {
     "data": {
      "text/plain": [
       "array([[0, 1, 1],\n",
       "       [1, 0, 0],\n",
       "       [0, 0, 1]])"
      ]
     },
     "execution_count": 5,
     "metadata": {},
     "output_type": "execute_result"
    }
   ],
   "source": [
    "#Grafo de prueba, A-B y A-C\n",
    "A = np.array([[0,1,1],[1,0,0],[0,0,1]])\n",
    "A"
   ]
  },
  {
   "cell_type": "code",
   "execution_count": 83,
   "metadata": {},
   "outputs": [],
   "source": [
    "#Primero enumeracion simple (grafos sin direccion)\n",
    "#Las restricciones son un diccionario con las clases como llave,\n",
    "#con sets indicando que elementos no estan permitidos\n",
    "def enumeracion(A, restricciones, MAX, symbs):\n",
    "    if MAX<0:\n",
    "        MAX=np.inf;\n",
    "        \n",
    "    n = len(A)\n",
    "    \n",
    "    #Inicializamos una matriz para el proceso en zeros\n",
    "    S = np.zeros((n,n))\n",
    "    S[0] = [sum(a) for a in A]\n",
    "    \n",
    "    \n",
    "    #Arreglo para checar los nodos restantes\n",
    "    left = [i for i in range(n)]\n",
    "    \n",
    "    #La solucion es un diccionario con las clases como llaves\n",
    "    soln = {}\n",
    "    #Inicializamos los \n",
    "    for i in range(n):\n",
    "        \n",
    "        #Inicializamos maximo en -infinito e indice en -1\n",
    "        m = -np.inf\n",
    "        index = -1\n",
    "        \n",
    "        #Buscamos el maximo en los nodos restantes\n",
    "        for j in left:\n",
    "            if S[i,j] > m :\n",
    "                m = S[i,j]\n",
    "                index = j\n",
    "        \n",
    "        #Nuestra solucion es index, la quitamos de los nodos disponibles\n",
    "        left.remove(index)\n",
    "        \n",
    "        #El siguiente renglon es el mismo que el pasado menos las conexiones de index\n",
    "        if i-1<m:\n",
    "            S[i+1] = S[i] - A[index]\n",
    "        \n",
    "        #Agregamos index a su clase, tomando en cuenta las restricciones puestas, intentando primero en la clase 0\n",
    "        clase = 0\n",
    "        flag = False\n",
    "        \n",
    "        #Busca la clase\n",
    "        while not flag:\n",
    "            #Verifica que la nodo pueda estar en esa clase\n",
    "            try:\n",
    "                claseProhibida=symbs[index] in restricciones[clase]\n",
    "            except Exception:\n",
    "                claseProhibida=False\n",
    "            \n",
    "            #Ve si la clase está llena\n",
    "            try: \n",
    "                maxElementos=not len(soln[clase])<MAX\n",
    "            except Exception:\n",
    "                maxElementos=False\n",
    "            \n",
    "            if not claseProhibida and not maxElementos:\n",
    "                #Agrega el nodo a la clase y agrega las restricciones correspondientes\n",
    "                flag=True\n",
    "                \n",
    "                try:\n",
    "                    soln[clase].append(symbs[index])\n",
    "                except Exception:\n",
    "                    soln[clase] = [symbs[index]]\n",
    "                \n",
    "                try:\n",
    "                    restricciones[clase]|=set([symbs[x] for x in np.where(A[index]==1)[0]])\n",
    "                except Exception:\n",
    "                    restricciones[clase] = set([symbs[x] for x in np.where(A[index]==1)[0]])\n",
    "            \n",
    "            else:\n",
    "                clase += 1\n",
    "            \n",
    "    return soln"
   ]
  },
  {
   "cell_type": "code",
   "execution_count": 84,
   "metadata": {
    "scrolled": false
   },
   "outputs": [
    {
     "name": "stdout",
     "output_type": "stream",
     "text": [
      "Enumeracion Simple\n",
      "Escriba todos los nodos, separados por comas: \n",
      "a,b,c,d,e,f\n",
      "Escriba las conexiones, separando los elementos com comas:\n",
      "Clan: \n",
      "a,c,b\n",
      "Hay otra conexión? (S/N): \n",
      "N\n",
      "Ingrese el número máximo de elementos por clase (si no hay ingrese un numero negativo)-3\n",
      "Hay restricciones sobre los nodos? (S/N): \n",
      "S\n",
      "Restriccion con formato A >= n (clase de A mayor igual a n)\n",
      "a>=2\n",
      "Hay restricciones sobre los nodos? (S/N): \n",
      "N\n"
     ]
    }
   ],
   "source": [
    "print('Enumeracion Simple')\n",
    "syms = input('Escriba todos los nodos, separados por comas: \\n')\n",
    "\n",
    "symbs = syms.replace(' ','').split(',')\n",
    "n = len(symbs)\n",
    "syms = { symbs[i] : i for i in range(n) }\n",
    "A = np.zeros((n,n))\n",
    "\n",
    "print('Escriba las conexiones, separando los elementos com comas:')\n",
    "\n",
    "flag = True\n",
    "while flag:\n",
    "    s = input('Clan: \\n')\n",
    "    s = s.replace(' ' ,'').split(',')\n",
    "    \n",
    "    for i in s:\n",
    "        for j in [k for k in s if k!=i]:\n",
    "            A[syms[i],syms[j]] = 1\n",
    "    flag = (input('Hay otra conexión? (S/N): \\n') == 'S')\n",
    "\n",
    "MAX = int(input ('Ingrese el número máximo de elementos por clase (si no hay ingrese un numero negativo)'))\n",
    "\n",
    "restricciones = {}\n",
    "\n",
    "while (input('Hay restricciones sobre los nodos? (S/N): \\n') == 'S'):\n",
    "    s = input('Restriccion con formato A >= n (clase de A mayor igual a n)\\n')\n",
    "    try:\n",
    "        sym, index = s.replace(' ','').split('>=')\n",
    "        index = int(index)\n",
    "    except Exception:\n",
    "        print('Restriccion invalida')\n",
    "    \n",
    "    for j in range(index):\n",
    "        try:\n",
    "            restricciones[j].add(sym)\n",
    "        except Exception:\n",
    "            restricciones[j] = set([sym])"
   ]
  },
  {
   "cell_type": "code",
   "execution_count": 86,
   "metadata": {},
   "outputs": [
    {
     "data": {
      "text/plain": [
       "{0: ['b', 'd', 'e', 'f'], 1: ['c'], 2: ['a']}"
      ]
     },
     "execution_count": 86,
     "metadata": {},
     "output_type": "execute_result"
    }
   ],
   "source": [
    "enumeracion(A,restricciones,MAX,symbs)"
   ]
  },
  {
   "cell_type": "code",
   "execution_count": 7,
   "metadata": {},
   "outputs": [],
   "source": [
    "#Super ineficiente, mayb cambiar por algo q calcule todo a la vez elevando la matriz hasta la n-esima potencia\n",
    "def reachable(A,index):\n",
    "    n = len(A)\n",
    "    visited = set()\n",
    "    tovisit = set(np.where(A[index] == 1)[0])\n",
    "    \n",
    "    while len(visited) < n and not tovisit == set():\n",
    "        visited = visited | tovisit\n",
    "        \n",
    "        aux = set()\n",
    "        for k in tovisit:\n",
    "            aux = aux | set(np.where(A[k] == 1)[0])\n",
    "        \n",
    "        tovisit = aux - visited\n",
    "    \n",
    "    return visited"
   ]
  },
  {
   "cell_type": "code",
   "execution_count": 8,
   "metadata": {},
   "outputs": [],
   "source": [
    "#Falta considerar restricciones, no pifa bien (?)\n",
    "def enumeracionDirigida(A, restricciones = {}):\n",
    "    n = len(A)\n",
    "    \n",
    "    #Armamos las conecciones en un diccionario con nodo como llave, destinos como elementos\n",
    "    conecciones = {}\n",
    "    for i in range(n):\n",
    "        conecciones[i] = reachable(A, i)\n",
    "    \n",
    "    print(conecciones)\n",
    "    #Inicializamos una matriz para el proceso en zeros\n",
    "    S = np.zeros((n,n))\n",
    "    S[0] = [len(c) for c in conecciones.values()]\n",
    "    \n",
    "    \n",
    "    #Arreglo para checar los nodos restantes\n",
    "    left = [i for i in range(n)]\n",
    "    \n",
    "    #La solucion es un diccionario con las clases como llaves\n",
    "    soln = {}\n",
    "    #Inicializamos los \n",
    "    for i in range(n):\n",
    "        \n",
    "        #Inicializamos maximo en -infinito e indice en -1\n",
    "        m = -np.inf\n",
    "        index = -1\n",
    "        \n",
    "        #Buscamos el maximo en los nodos restantes\n",
    "        for j in left:\n",
    "            if S[i,j] > m :\n",
    "                m = S[i,j]\n",
    "                index = j\n",
    "        \n",
    "        #Nuesta solucion es index, la quitamos de los nodos disponibles\n",
    "        left.remove(index)\n",
    "        \n",
    "        #El singuiente renglon es el mmismo que el pasado menos las conecciones de index\n",
    "        if i-1<m:\n",
    "            S[i+1] = S[i] - [1 if k in conecciones[index] else 0 for k in range(n)]\n",
    "        \n",
    "        #Agregamos index a su clase, tomando en cuenta las restricciones puestas, intentando primero en la clase 0\n",
    "        clase = 0\n",
    "        flag = False\n",
    "        \n",
    "        #Busca la clase\n",
    "        while not flag:\n",
    "            try:\n",
    "                if index not in restricciones[clase]:\n",
    "                    flag = True\n",
    "                    restricciones[clase] = restricciones[clase] | conecciones[index]\n",
    "                    \n",
    "                else:\n",
    "                    #Restringir todo lo q se alcanza desde el nodo en esa clase? (i.e tiene q ser despues si lo alcanzas desde ese nodo?)\n",
    "                    clase += 1\n",
    "                    \n",
    "            except Exception:\n",
    "                flag = True\n",
    "                restricciones[clase] = conecciones[index]\n",
    "                \n",
    "        #Guarda j en la clase\n",
    "        try:\n",
    "            soln[clase].append(index)\n",
    "        except Exception:\n",
    "            soln[clase] = [index]\n",
    "        \n",
    "    \n",
    "    return soln"
   ]
  },
  {
   "cell_type": "code",
   "execution_count": 9,
   "metadata": {},
   "outputs": [
    {
     "data": {
      "text/plain": [
       "array([[0, 0, 0, 1],\n",
       "       [0, 1, 1, 0],\n",
       "       [0, 0, 0, 0],\n",
       "       [0, 1, 0, 0]])"
      ]
     },
     "execution_count": 9,
     "metadata": {},
     "output_type": "execute_result"
    }
   ],
   "source": [
    "B = np.array([[0,0,0,1], [0,1,1,0], [0,0,0,0], [0,1,0,0]])\n",
    "B"
   ]
  },
  {
   "cell_type": "code",
   "execution_count": 10,
   "metadata": {
    "scrolled": true
   },
   "outputs": [
    {
     "name": "stdout",
     "output_type": "stream",
     "text": [
      "{0: {1, 2, 3}, 1: {1, 2}, 2: set(), 3: {1, 2}}\n"
     ]
    },
    {
     "data": {
      "text/plain": [
       "{0: [0], 1: [1, 3], 2: [2]}"
      ]
     },
     "execution_count": 10,
     "metadata": {},
     "output_type": "execute_result"
    }
   ],
   "source": [
    "enumeracionDirigida(B)"
   ]
  }
 ],
 "metadata": {
  "kernelspec": {
   "display_name": "Python 3",
   "language": "python",
   "name": "python3"
  },
  "language_info": {
   "codemirror_mode": {
    "name": "ipython",
    "version": 3
   },
   "file_extension": ".py",
   "mimetype": "text/x-python",
   "name": "python",
   "nbconvert_exporter": "python",
   "pygments_lexer": "ipython3",
   "version": "3.6.4"
  }
 },
 "nbformat": 4,
 "nbformat_minor": 2
}
