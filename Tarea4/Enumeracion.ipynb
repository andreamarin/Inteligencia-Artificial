{
 "cells": [
  {
   "cell_type": "code",
   "execution_count": 1,
   "metadata": {},
   "outputs": [],
   "source": [
    "import numpy as np\n",
    "from numpy.linalg import matrix_power as mpow"
   ]
  },
  {
   "cell_type": "code",
   "execution_count": 2,
   "metadata": {},
   "outputs": [],
   "source": [
    "#Grafo de prueba, A-B y A-C\n",
    "symbs=['a', 'c', 'd', 'f', 'g', 'h', 'j', 'k', 'r', 't', 'w']\n",
    "restricciones={}\n",
    "restricciones[0]=set(['t','h','j'])\n",
    "restricciones[1]=set(['t','h'])\n",
    "MAX=2"
   ]
  },
  {
   "cell_type": "code",
   "execution_count": 32,
   "metadata": {},
   "outputs": [],
   "source": [
    "A=np.array([[0,1,1,0,0,1,0,0,1,0,1],\n",
    "           [1,0,1,0,0,0,0,0,1,0,0],\n",
    "           [1,1,0,1,0,1,1,0,0,1,0],\n",
    "           [0,0,1,0,0,0,0,0,0,1,0],\n",
    "           [0,0,0,0,0,1,1,1,0,1,0],\n",
    "           [1,0,1,0,1,0,1,1,1,1,1],\n",
    "           [0,0,1,0,1,1,0,1,0,1,0],\n",
    "           [0,0,0,0,1,1,1,0,1,1,0],\n",
    "           [1,1,0,0,0,1,0,1,0,0,0],\n",
    "           [0,0,1,1,1,1,1,1,0,0,1],\n",
    "           [1,0,0,0,0,1,0,0,0,1,0]])"
   ]
  },
  {
   "cell_type": "code",
   "execution_count": 30,
   "metadata": {},
   "outputs": [
    {
     "data": {
      "text/plain": [
       "(11, 11)"
      ]
     },
     "execution_count": 30,
     "metadata": {},
     "output_type": "execute_result"
    }
   ],
   "source": [
    "A.shape"
   ]
  },
  {
   "cell_type": "code",
   "execution_count": 2,

   "metadata": {},
   "outputs": [],
   "source": [
    "#Primero enumeracion simple (grafos sin direccion)\n",
    "#Las restricciones son un diccionario con las clases como llave,\n",
    "#con sets indicando que elementos no estan permitidos\n",
    "def enumeracion(A, restricciones, MAX, symbs):\n",
    "    if MAX<0:\n",
    "        MAX=np.inf;\n",
    "        \n",
    "    n = len(A)\n",
    "    \n",
    "    orden=[]\n",
    "    \n",
    "    #Inicializamos una matriz para el proceso en zeros\n",
    "    S = np.zeros(n)\n",
    "    S = [sum(a) for a in A]\n",
    "    \n",
    "    \n",
    "    #Arreglo para checar los nodos restantes\n",
    "    left = [i for i in range(n)]\n",
    "    \n",
    "    #La solucion es un diccionario con las clases como llaves\n",
    "    soln = {}\n",
    "    #Inicializamos los \n",
    "    for i in range(n):\n",
    "        #Inicializamos maximo en -infinito e indice en -1\n",
    "        m = -np.inf\n",
    "        index = -1\n",
    "        \n",
    "        #Buscamos el maximo en los nodos restantes\n",
    "        for j in left:\n",
    "            if S[j] == 0:\n",
    "                index=j\n",
    "                break\n",
    "            \n",
    "            if S[j]>m :\n",
    "                m = S[j]\n",
    "                index = j\n",
    "        \n",
    "        #Nuestra solucion es index, la quitamos de los nodos disponibles\n",
    "        left.remove(index)\n",
    "        orden.append(symbs[index])\n",
    "        \n",
    "        #El siguiente renglon es el mismo que el pasado menos las conexiones de index\n",
    "        if i-1<n:\n",
    "            S= S- A[index]\n",
    "        \n",
    "        #Agregamos index a su clase, tomando en cuenta las restricciones puestas, intentando primero en la clase 0\n",
    "        clase = 0\n",
    "        flag = False\n",
    "        \n",
    "        #Busca la clase\n",
    "        while not flag:\n",
    "            #Verifica que la nodo pueda estar en esa clase\n",
    "            try:\n",
    "                claseProhibida=symbs[index] in restricciones[clase]\n",
    "            except Exception:\n",
    "                claseProhibida=False\n",

    "            \n",
    "            #Ve si la clase está llena\n",
    "            try: \n",
    "                maxElementos=not len(soln[clase])<MAX\n",
    "            except Exception:\n",
    "                maxElementos=False\n",
    "            \n",
    "            if not claseProhibida and not maxElementos:\n",
    "                #Agrega el nodo a la clase y agrega las restricciones correspondientes\n",
    "                flag=True\n",
    "                \n",
    "                try:\n",
    "                    soln[clase].append(symbs[index])\n",
    "                except Exception:\n",
    "                    soln[clase] = [symbs[index]]\n",
    "                \n",

    "                try:\n",
    "                    restricciones[clase]|=set([symbs[x] for x in np.where(A[index]==1)[0]])\n",
    "                except Exception:\n",
    "                    restricciones[clase] = set([symbs[x] for x in np.where(A[index]==1)[0]])\n",
    "            \n",
    "            else:\n",
    "                clase += 1\n",
    "            \n",
    "    return soln"
   ]
  },
  {
   "cell_type": "code",
   "execution_count": null,
   "metadata": {},
   "outputs": [],
   "source": []
  },
  {
   "cell_type": "code",
   "execution_count": 4,

   "metadata": {
    "scrolled": false
   },
   "outputs": [
    {
     "name": "stdout",
     "output_type": "stream",
     "text": [
      "Enumeracion Simple\n",
      "Escriba todos los nodos, separados por comas: \n",
      "a,c,d,f,g,h,j,k,r,t,w\n",
      "¿Cuántas conexiones (clanes) hay?11\n",
      "Escriba las conexiones, separando los elementos com comas:\n",
      "CONEXIÓN1\n",
      "a,r,c\n",
      "CONEXIÓN2\n",
      "f,d,t\n",
      "CONEXIÓN3\n",
      "t,g,h,j\n",
      "CONEXIÓN4\n",
      "r,k,h\n",
      "CONEXIÓN5\n",
      "k,t,g\n",
      "CONEXIÓN6\n",
      "d,j\n",
      "CONEXIÓN7\n",
      "a,h,d\n",
      "CONEXIÓN8\n",
      "t,h,w\n",
      "CONEXIÓN9\n",
      "c,d\n",
      "CONEXIÓN10\n",
      "a,w\n",
      "CONEXIÓN11\n",
      "k,j\n",
      "Ingrese el número máximo de elementos por clase (si no hay ingrese un numero negativo)2\n",
      "Hay restricciones sobre los nodos? (S/N): \n",
      "S\n",
      "Restriccion con formato A >= n (clase de A mayor igual a n)\n",
      "t>=3\n",
      "Hay restricciones sobre los nodos? (S/N): \n",
      "S\n",
      "Restriccion con formato A >= n (clase de A mayor igual a n)\n",
      "h>=3\n",
      "Hay restricciones sobre los nodos? (S/N): \n",
      "j>=2\n"
     ]
    }
   ],
   "source": [
    "print('Enumeracion Simple')\n",
    "syms = input('Escriba todos los nodos, separados por comas: \\n')\n",
    "\n",
    "symbs = syms.replace(' ','').split(',')\n",
    "n = len(symbs)\n",
    "syms = { symbs[i] : i for i in range(n) }\n",
    "A = np.zeros((n,n))\n",
    "\n",
    "\n",
    "#crea conexiones\n",
    "con=int(input('¿Cuántas conexiones (clanes) hay?'))\n",
    "print('Escriba las conexiones, separando los elementos com comas:')\n",
    "\n",
    "for i in range(con):\n",
    "    s=input('CONEXIÓN'+str(i+1)+'\\n')\n",
    "    \n",
    "\n",
    "    flag=True\n",
    "\n",
    "    while flag:\n",
    "        s = s.replace(' ' ,'').split(',')\n",
    "        try:\n",
    "            for i in s:\n",
    "                for j in [k for k in s if not k ==i]:\n",
    "                    A[syms[i],syms[j]] = 1          \n",
    "            flag=False\n",
    "        except Exception:\n",
    "            s=('Error en los nodos, vuelva a ingresar la conexión: \\n')\n",
    "    \n",
    "    \n",
    "try:\n",
    "    MAX = int(input ('Ingrese el número máximo de elementos por clase (si no hay ingrese un numero negativo)'))\n",
    "except Exception:\n",
    "    print('Número inválido')\n",

    "\n",
    "restricciones = {}\n",
    "\n",
    "while (input('Hay restricciones sobre los nodos? (S/N): \\n') == 'S'):\n",
    "    s = input('Restriccion con formato A >= n (clase de A mayor igual a n)\\n')\n",
    "    try:\n",
    "        sym, index = s.replace(' ','').split('>=')\n",
    "        index = int(index)\n",
    "    except Exception:\n",
    "        print('Restriccion invalida')\n",
    "    \n",
    "    for j in range(index-1):\n",
    "        try:\n",
    "            restricciones[j].add([syms[sym]])\n",
    "        except Exception:\n",
    "            restricciones[j] = set([syms[sym]])"
   ]
  },
  {
   "cell_type": "code",
   "execution_count": 5,
   "metadata": {},
   "outputs": [
        {
     "data": {
      "text/plain": [
       "{0: ['a', 'f'],\n",
       " 1: ['w', 'd'],\n",
       " 2: ['h', 'c'],\n",
       " 3: ['t', 'r'],\n",
       " 4: ['k'],\n",
       " 5: ['g'],\n",
       " 6: ['j']}"
      ]
     },
     "execution_count": 42,
     "metadata": {},
     "output_type": "execute_result"
    }
   ],
   "source": [
    "enumeracion(A,restricciones,MAX,symbs)"
   ]
  },
  {
   "cell_type": "markdown",
   "metadata": {},
   "source": [
    "# Respuesta Correcta\n",
    "\n",
    "[a,f]\n",
    "[w,d]\n",
    "[h,c]\n",
    "[t,r]\n",
    "[k]\n",
    "[g]\n",
    "[j]\n",
    "\n",
    "h,t,a,w,d,f,k,c,r,g,j"
   ]
  }
 ],
 "metadata": {
  "kernelspec": {
   "display_name": "Python 3",
   "language": "python",
   "name": "python3"
  },
  "language_info": {
   "codemirror_mode": {
    "name": "ipython",
    "version": 3
   },
   "file_extension": ".py",
   "mimetype": "text/x-python",
   "name": "python",
   "nbconvert_exporter": "python",
   "pygments_lexer": "ipython3",
   "version": "3.6.4"
  }
 },
 "nbformat": 4,
 "nbformat_minor": 2
}
