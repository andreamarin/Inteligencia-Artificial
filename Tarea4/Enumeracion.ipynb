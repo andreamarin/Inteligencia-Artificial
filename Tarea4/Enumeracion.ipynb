{
 "cells": [
  {
   "cell_type": "code",
   "execution_count": 1,
   "metadata": {},
   "outputs": [],
   "source": [
    "import numpy as np\n",
    "from numpy.linalg import matrix_power as mpow"
   ]
  },
  {
   "cell_type": "code",
   "execution_count": 2,
   "metadata": {},
   "outputs": [
    {
     "data": {
      "text/plain": [
       "array([[0, 1, 1],\n",
       "       [1, 0, 0],\n",
       "       [0, 0, 1]])"
      ]
     },
     "execution_count": 2,
     "metadata": {},
     "output_type": "execute_result"
    }
   ],
   "source": [
    "#Grafo de prueba, A-B y A-C\n",
    "A = np.array([[0,1,1],[1,0,0],[0,0,1]])\n",
    "A"
   ]
  },
  {
   "cell_type": "code",
   "execution_count": 3,
   "metadata": {},
   "outputs": [],
   "source": [
    "#Primero enumeracion simple (grafos sin direccion)\n",
    "#Las restricciones son un diccionario con las clases como llave,\n",
    "#con sets indicando que elementos no estan permitidos\n",
    "def enumeracion(A, restricciones, MAX, symbs):\n",
    "    n = len(A)\n",
    "    \n",
    "    #Inicializamos una matriz para el proceso en zeros\n",
    "    S = np.zeros((n,n))\n",
    "    S[0] = [sum(a) for a in A]\n",
    "    \n",
    "    \n",
    "    #Arreglo para checar los nodos restantes\n",
    "    left = [i for i in range(n)]\n",
    "    \n",
    "    #Se inicializa la solucion como un diccionario vacio\n",
    "    soln = {}\n",
    "        \n",
    "    \n",
    "    if MAX > 0:\n",
    "        #Modo con maximo\n",
    "        #Se rellena la solucion y la restriccion con las llavesd que les faltan\n",
    "        existentes = restricciones.keys()\n",
    "        \n",
    "        try:\n",
    "            nxt = max(existentes) + 1\n",
    "        except Exception:\n",
    "            nxt = 0\n",
    "        \n",
    "        for i in range(nxt):\n",
    "            soln[i] = []\n",
    "            if i not in existentes:\n",
    "                existentes[i] = set()\n",
    "        \n",
    "        for i in range(n):\n",
    "            #Inicializamos maximo en -infinito e indice en -1\n",
    "            m = -np.inf\n",
    "            index = -1\n",
    "\n",
    "            #Buscamos el maximo en los nodos restantes\n",
    "            for j in left:\n",
    "                if S[i,j] > m :\n",
    "                    m = S[i,j]\n",
    "                    index = j\n",
    "\n",
    "            #Nuesta solucion es index, la quitamos de los nodos disponibles\n",
    "            left.remove(index)\n",
    "\n",
    "            #El siguiente renglon es el mismo que el pasado menos las conexiones de index\n",
    "            if i-1<m:\n",
    "                S[i+1] = S[i] - A[index]\n",
    "            \n",
    "            posibles = [key for key, value in restricciones.items() if ( len(soln[key]) < MAX and \\\n",
    "                                                                       index not in value )]\n",
    "            if len(posibles) > 0 :\n",
    "                #Encuentra el posible con menos elementos\n",
    "                clase = posibles[0]\n",
    "                m = len(soln[clase])\n",
    "                \n",
    "                for p in posibles:\n",
    "                    P = len(soln[p])\n",
    "                    if  P < m :\n",
    "                        clase = p\n",
    "                        m = P\n",
    "                \n",
    "                restricciones[clase] = restricciones[clase] | set(np.where(A[index] == 1)[0])\n",
    "                soln[clase].append(symbs[index])\n",
    "                \n",
    "            else:\n",
    "                #No hay posible, crea otra clase\n",
    "                restricciones[nxt] = set(np.where(A[index] == 1)[0])\n",
    "                soln[nxt] = [symbs[index]]\n",
    "                nxt = nxt + 1\n",
    "        \n",
    "    else:\n",
    "        #Modo sin maximo\n",
    "        \n",
    "        for i in range(n):\n",
    "            #Inicializamos maximo en -infinito e indice en -1\n",
    "            m = -np.inf\n",
    "            index = -1\n",
    "\n",
    "            #Buscamos el maximo en los nodos restantes\n",
    "            for j in left:\n",
    "                if S[i,j] > m :\n",
    "                    m = S[i,j]\n",
    "                    index = j\n",
    "\n",
    "            #Nuesta solucion es index, la quitamos de los nodos disponibles\n",
    "            left.remove(index)\n",
    "\n",
    "            #El siguiente renglon es el mismo que el pasado menos las conexiones de index\n",
    "            if i-1<m:\n",
    "                S[i+1] = S[i] - A[index]\n",
    "\n",
    "            #Agregamos index a su clase, tomando en cuenta las restricciones puestas, intentando primero en la clase 0\n",
    "            clase = 0\n",
    "            flag = False\n",
    "\n",
    "            #Busca la clase\n",
    "            while not flag:\n",
    "                try:\n",
    "                    if index not in restricciones[clase]:\n",
    "                        flag = True\n",
    "                        restricciones[clase] = restricciones[clase] | set(np.where(A[index] == 1)[0])\n",
    "\n",
    "                    else:\n",
    "                        clase += 1\n",
    "\n",
    "                except Exception:\n",
    "                    flag = True\n",
    "                    restricciones[clase] = set(np.where(A[index] == 1)[0])\n",
    "\n",
    "            #Guarda j en la clase\n",
    "            try:\n",
    "                soln[clase].append(symbs[index])\n",
    "            except Exception:\n",
    "                soln[clase] = [symbs[index]]\n",
    "    \n",
    "    return soln"
   ]
  },
  {
   "cell_type": "code",
   "execution_count": 4,
   "metadata": {
    "scrolled": true
   },
   "outputs": [
    {
     "name": "stdout",
     "output_type": "stream",
     "text": [
      "Enumeracion Simple\n",
      "Escriba todos los nodos, separados por comas: \n",
      "1,2,3,4,5,6\n",
      "Escriba las conexiones, separando los elementos com comas:\n",
      "Clan: \n",
      "1,2,3\n",
      "Hay otra conexión? (S/N): \n",
      "n\n",
      "Ingrese el número máximo de elementos por clase (si no hay ingrese un numero negativo)0\n",
      "Hay restricciones sobre los nodos? (S/N): \n",
      "n\n"
     ]
    }
   ],
   "source": [
    "print('Enumeracion Simple')\n",
    "syms = input('Escriba todos los nodos, separados por comas: \\n')\n",
    "\n",
    "symbs = syms.replace(' ','').split(',')\n",
    "n = len(symbs)\n",
    "syms = { symbs[i] : i for i in range(n) }\n",
    "A = np.zeros((n,n))\n",
    "\n",
    "print('Escriba las conexiones, separando los elementos com comas:')\n",
    "\n",
    "flag = True\n",
    "while flag:\n",
    "    s = input('Clan: \\n')\n",
    "    s = s.replace(' ' ,'').split(',')\n",
    "    \n",
    "    for i in s:\n",
    "        for j in [k for k in s if k!=i]:\n",
    "            A[syms[i],syms[j]] = 1\n",
    "    flag = (input('Hay otra conexión? (S/N): \\n') == 'S')\n",
    "\n",
    "MAX = int(input ('Ingrese el número máximo de elementos por clase (si no hay ingrese un numero negativo)'))\n",
    "\n",
    "restricciones = {}\n",
    "\n",
    "while (input('Hay restricciones sobre los nodos? (S/N): \\n') == 'S'):\n",
    "    s = input('Restriccion con formato A >= n (clase de A mayor igual a n)\\n')\n",
    "    try:\n",
    "        sym, index = s.replace(' ','').split('>=')\n",
    "        index = int(index)\n",
    "    except Exception:\n",
    "        print('Restriccion invalida')\n",
    "    \n",
    "    for j in range(index):\n",
    "        try:\n",
    "            restricciones[j].add(sym)\n",
    "        except Exception:\n",
    "            restricciones[j] = set([sym])"
   ]
  },
  {
   "cell_type": "code",
   "execution_count": 5,
   "metadata": {
    "scrolled": false
   },
   "outputs": [
    {
     "data": {
      "text/plain": [
       "{0: ['1', '4', '5', '6'], 1: ['2'], 2: ['3']}"
      ]
     },
     "execution_count": 5,
     "metadata": {},
     "output_type": "execute_result"
    }
   ],
   "source": [
    "enumeracion(A,restricciones, MAX, symbs)"
   ]
  }
 ],
 "metadata": {
  "kernelspec": {
   "display_name": "Python 3",
   "language": "python",
   "name": "python3"
  },
  "language_info": {
   "codemirror_mode": {
    "name": "ipython",
    "version": 3
   },
   "file_extension": ".py",
   "mimetype": "text/x-python",
   "name": "python",
   "nbconvert_exporter": "python",
   "pygments_lexer": "ipython3",
   "version": "3.6.4"
  }
 },
 "nbformat": 4,
 "nbformat_minor": 2
}
