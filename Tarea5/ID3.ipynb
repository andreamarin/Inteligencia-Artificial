{
 "cells": [
  {
   "cell_type": "code",
   "execution_count": 1,
   "metadata": {},
   "outputs": [],
   "source": [
    "import numpy as np"
   ]
  },
  {
   "cell_type": "code",
   "execution_count": 2,
   "metadata": {},
   "outputs": [],
   "source": [
    "Datos = open('dataSets/ejemploClase.csv','r')"
   ]
  },
  {
   "cell_type": "code",
   "execution_count": 3,
   "metadata": {},
   "outputs": [
    {
     "data": {
      "text/plain": [
       "['Presion', 'Urea', 'Gota', 'Hipotiroidismo', 'Tratamiento']"
      ]
     },
     "execution_count": 3,
     "metadata": {},
     "output_type": "execute_result"
    }
   ],
   "source": [
    "att = Datos.readline().replace('\\n','').split(',')\n",
    "att"
   ]
  },
  {
   "cell_type": "code",
   "execution_count": 4,
   "metadata": {},
   "outputs": [
    {
     "data": {
      "text/plain": [
       "(14, 5)"
      ]
     },
     "execution_count": 4,
     "metadata": {},
     "output_type": "execute_result"
    }
   ],
   "source": [
    "d = Datos.read()\n",
    "data = np.array([r.split(',') for r in d.split('\\n')])\n",
    "data.shape"
   ]
  },
  {
   "cell_type": "code",
   "execution_count": 5,
   "metadata": {},
   "outputs": [],
   "source": [
    "Datos.close()"
   ]
  },
  {
   "cell_type": "code",
   "execution_count": 6,
   "metadata": {
    "scrolled": false
   },
   "outputs": [
    {
     "name": "stdout",
     "output_type": "stream",
     "text": [
      "Los atributos son:\n",
      "\t0) Presion\n",
      "\t1) Urea\n",
      "\t2) Gota\n",
      "\t3) Hipotiroidismo\n",
      "\t4) Tratamiento\n",
      "Cual es el atributo objetivo?\n",
      "4\n"
     ]
    }
   ],
   "source": [
    "print('Los atributos son:')\n",
    "for i in range(len(att)):\n",
    "    print('\\t' + str(i) + ') ' + att[i])\n",
    "\n",
    "objective = int(input('Cual es el atributo objetivo?\\n'))"
   ]
  },
  {
   "cell_type": "code",
   "execution_count": 7,
   "metadata": {},
   "outputs": [],
   "source": [
    "#Numero de atributos\n",
    "tot, n = data.shape\n",
    "#Contamos, para cada columna y tipo de atributo objetivo, las frecuencias\n",
    "count = [{} for i in range(n)]\n",
    "for row in data:\n",
    "    res = row[objective]\n",
    "    for i in range(n):\n",
    "        if not i == objective:\n",
    "            val = row[i]\n",
    "            if val not in count[i].keys():\n",
    "                count[i][val] = {}\n",
    "            \n",
    "            if res in count[i][val].keys():\n",
    "                count[i][val][res] += 1\n",
    "            else:\n",
    "                count[i][val][res] = 1"
   ]
  },
  {
   "cell_type": "code",
   "execution_count": 8,
   "metadata": {
    "scrolled": true
   },
   "outputs": [
    {
     "data": {
      "text/plain": [
       "{'alta': {'0': 3, '1': 2}, 'normal': {'1': 4}, 'baja': {'1': 3, '0': 2}}"
      ]
     },
     "execution_count": 8,
     "metadata": {},
     "output_type": "execute_result"
    }
   ],
   "source": [
    "count[0]"
   ]
  },
  {
   "cell_type": "code",
   "execution_count": 9,
   "metadata": {},
   "outputs": [],
   "source": [
    "#Recibe el diccionario del atributo, regresa la entropia como (?)\n",
    "def entropy(attribute, tot):\n",
    "    e = 0\n",
    "    for ak in attribute.values():\n",
    "        aux = list(ak.values())\n",
    "        k = sum(aux)\n",
    "        aux = np.array(aux)/k\n",
    "        subtot = -k * np.sum(aux*np.log2(aux))\n",
    "        e += subtot\n",
    "    e = e/tot\n",
    "    return e"
   ]
  },
  {
   "cell_type": "code",
   "execution_count": 14,
   "metadata": {
    "scrolled": true
   },
   "outputs": [
    {
     "data": {
      "text/plain": [
       "0.6935361388961919"
      ]
     },
     "execution_count": 14,
     "metadata": {},
     "output_type": "execute_result"
    }
   ],
   "source": [
    "entropy(count[0], tot)"
   ]
  }
 ],
 "metadata": {
  "kernelspec": {
   "display_name": "Python 3",
   "language": "python",
   "name": "python3"
  },
  "language_info": {
   "codemirror_mode": {
    "name": "ipython",
    "version": 3
   },
   "file_extension": ".py",
   "mimetype": "text/x-python",
   "name": "python",
   "nbconvert_exporter": "python",
   "pygments_lexer": "ipython3",
   "version": "3.6.5"
  }
 },
 "nbformat": 4,
 "nbformat_minor": 2
}
