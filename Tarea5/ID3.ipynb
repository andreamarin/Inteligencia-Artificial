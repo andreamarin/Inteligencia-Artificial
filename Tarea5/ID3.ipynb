{
 "cells": [
  {
   "cell_type": "code",
   "execution_count": 1,
   "metadata": {
    "collapsed": true
   },
   "outputs": [],
   "source": [
    "import numpy as np"
   ]
  },
  {
   "cell_type": "code",
   "execution_count": 2,
   "metadata": {
    "collapsed": false
   },
   "outputs": [],
   "source": [
    "Datos = open('dataSets/datosPoker.csv','r')"
   ]
  },
  {
   "cell_type": "code",
   "execution_count": 3,
   "metadata": {
    "collapsed": false
   },
   "outputs": [
    {
     "data": {
      "text/plain": [
       "['Color1',\n",
       " 'Carta1',\n",
       " 'Color2',\n",
       " 'Carta2',\n",
       " 'Color3',\n",
       " 'Carta3',\n",
       " 'Color4',\n",
       " 'Carta4',\n",
       " 'Color5',\n",
       " 'Carta5',\n",
       " 'Mano']"
      ]
     },
     "execution_count": 3,
     "metadata": {},
     "output_type": "execute_result"
    }
   ],
   "source": [
    "att = Datos.readline().replace('\\n','').split(',')\n",
    "att"
   ]
  },
  {
   "cell_type": "code",
   "execution_count": 4,
   "metadata": {
    "collapsed": false
   },
   "outputs": [
    {
     "data": {
      "text/plain": [
       "(25010, 11)"
      ]
     },
     "execution_count": 4,
     "metadata": {},
     "output_type": "execute_result"
    }
   ],
   "source": [
    "d = Datos.read()\n",
    "data = np.array([r.split(',') for r in d.split('\\n')])\n",
    "data.shape"
   ]
  },
  {
   "cell_type": "code",
   "execution_count": 5,
   "metadata": {
    "collapsed": true
   },
   "outputs": [],
   "source": [
    "Datos.close()"
   ]
  },
  {
   "cell_type": "code",
   "execution_count": 6,
   "metadata": {
    "collapsed": false,
    "scrolled": false
   },
   "outputs": [
    {
     "name": "stdout",
     "output_type": "stream",
     "text": [
      "Los atributos son:\n",
      "\t0) Color1\n",
      "\t1) Carta1\n",
      "\t2) Color2\n",
      "\t3) Carta2\n",
      "\t4) Color3\n",
      "\t5) Carta3\n",
      "\t6) Color4\n",
      "\t7) Carta4\n",
      "\t8) Color5\n",
      "\t9) Carta5\n",
      "\t10) Mano\n",
      "Cual es el atributo objetivo?\n",
      "10\n"
     ]
    }
   ],
   "source": [
    "print('Los atributos son:')\n",
    "for i in range(len(att)):\n",
    "    print('\\t' + str(i) + ') ' + att[i])\n",
    "\n",
    "objective = int(input('Cual es el atributo objetivo?\\n'))"
   ]
  },
  {
   "cell_type": "code",
   "execution_count": 15,
   "metadata": {
    "collapsed": false
   },
   "outputs": [],
   "source": [
    "#Numero de atributos\n",
    "tot, n = data.shape\n",
    "#Contamos, para cada columna y tipo de atributo objetivo, las frecuencias\n",
    "count = [{} for i in range(n)]\n",
    "for row in data:\n",
    "    res = row[objective]\n",
    "    for i in range(n):\n",
    "        if not i == objective:\n",
    "            val = row[i]\n",
    "            if val not in count[i].keys():\n",
    "                count[i][val] = {}\n",
    "            \n",
    "            if res in count[i][val].keys():\n",
    "                count[i][val][res] += 1\n",
    "            else:\n",
    "                count[i][val][res] = 1"
   ]
  },
  {
   "cell_type": "code",
   "execution_count": 16,
   "metadata": {
    "collapsed": false,
    "scrolled": true
   },
   "outputs": [
    {
     "data": {
      "text/plain": [
       "{'1': {'0': 3090,\n",
       "  '1': 2626,\n",
       "  '2': 262,\n",
       "  '3': 120,\n",
       "  '4': 28,\n",
       "  '5': 12,\n",
       "  '6': 9,\n",
       "  '8': 2,\n",
       "  '9': 1},\n",
       " '2': {'0': 3153,\n",
       "  '1': 2662,\n",
       "  '2': 323,\n",
       "  '3': 123,\n",
       "  '4': 17,\n",
       "  '5': 11,\n",
       "  '6': 6,\n",
       "  '7': 1,\n",
       "  '8': 1,\n",
       "  '9': 1},\n",
       " '3': {'0': 3073,\n",
       "  '1': 2676,\n",
       "  '2': 308,\n",
       "  '3': 134,\n",
       "  '4': 31,\n",
       "  '5': 12,\n",
       "  '6': 11,\n",
       "  '7': 3,\n",
       "  '8': 1,\n",
       "  '9': 1},\n",
       " '4': {'0': 3177,\n",
       "  '1': 2635,\n",
       "  '2': 313,\n",
       "  '3': 136,\n",
       "  '4': 17,\n",
       "  '5': 19,\n",
       "  '6': 10,\n",
       "  '7': 2,\n",
       "  '8': 1,\n",
       "  '9': 2}}"
      ]
     },
     "execution_count": 16,
     "metadata": {},
     "output_type": "execute_result"
    }
   ],
   "source": [
    "count[0]"
   ]
  },
  {
   "cell_type": "code",
   "execution_count": null,
   "metadata": {
    "collapsed": true
   },
   "outputs": [],
   "source": [
    "#Recibe el diccionario del atributo, regresa la entropia como (?)\n",
    "def entropy(attribute, tot):\n",
    "    "
   ]
  }
 ],
 "metadata": {
  "kernelspec": {
   "display_name": "Python 3",
   "language": "python",
   "name": "python3"
  },
  "language_info": {
   "codemirror_mode": {
    "name": "ipython",
    "version": 3
   },
   "file_extension": ".py",
   "mimetype": "text/x-python",
   "name": "python",
   "nbconvert_exporter": "python",
   "pygments_lexer": "ipython3",
   "version": "3.6.0"
  }
 },
 "nbformat": 4,
 "nbformat_minor": 2
}
