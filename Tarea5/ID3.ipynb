{
 "cells": [
  {
   "cell_type": "code",
   "execution_count": 1,
   "metadata": {},
   "outputs": [],
   "source": [
    "import numpy as np"
   ]
  },
  {
   "cell_type": "code",
   "execution_count": 2,
   "metadata": {},
   "outputs": [],
   "source": [
    "Datos = open('dataSets/ejemploClase.csv','r')"
   ]
  },
  {
   "cell_type": "code",
   "execution_count": 3,
   "metadata": {},
   "outputs": [
    {
     "data": {
      "text/plain": [
       "array(['Presion', 'Urea', 'Gota', 'Hipotiroidismo', 'Tratamiento'],\n",
       "      dtype='<U14')"
      ]
     },
     "execution_count": 3,
     "metadata": {},
     "output_type": "execute_result"
    }
   ],
   "source": [
    "att = np.array( Datos.readline().replace('\\n','').split(',') )\n",
    "att"
   ]
  },
  {
   "cell_type": "code",
   "execution_count": 4,
   "metadata": {},
   "outputs": [
    {
     "data": {
      "text/plain": [
       "(14, 5)"
      ]
     },
     "execution_count": 4,
     "metadata": {},
     "output_type": "execute_result"
    }
   ],
   "source": [
    "d = Datos.read()\n",
    "data = np.array([r.split(',') for r in d.split('\\n')])\n",
    "data.shape"
   ]
  },
  {
   "cell_type": "code",
   "execution_count": 5,
   "metadata": {},
   "outputs": [],
   "source": [
    "Datos.close()"
   ]
  },
  {
   "cell_type": "code",
   "execution_count": 6,
   "metadata": {
    "scrolled": true
   },
   "outputs": [
    {
     "name": "stdout",
     "output_type": "stream",
     "text": [
      "Los atributos son:\n",
      "\t0) Presion\n",
      "\t1) Urea\n",
      "\t2) Gota\n",
      "\t3) Hipotiroidismo\n",
      "\t4) Tratamiento\n",
      "Cual es el atributo objetivo?\n",
      "4\n"
     ]
    }
   ],
   "source": [
    "print('Los atributos son:')\n",
    "for i in range(len(att)):\n",
    "    print('\\t' + str(i) + ') ' + att[i])\n",
    "\n",
    "objective = int(input('Cual es el atributo objetivo?\\n'))"
   ]
  },
  {
   "cell_type": "code",
   "execution_count": 7,
   "metadata": {},
   "outputs": [],
   "source": [
    "#Recibe el diccionario del atributo, regresa la entropia como (?)\n",
    "def entropy(attribute, tot):\n",
    "    e = 0\n",
    "    for ak in attribute.values():\n",
    "        aux = list(ak.values())\n",
    "        k = sum(aux)\n",
    "        aux = np.array(aux)/k\n",
    "        subtot = -k * np.sum(aux*np.log2(aux))\n",
    "        e += subtot\n",
    "    e = e/tot\n",
    "    return e"
   ]
  },
  {
   "cell_type": "code",
   "execution_count": 10,
   "metadata": {},
   "outputs": [],
   "source": [
    "def ID3(att, data, objective):   \n",
    "    #Numero de atributos\n",
    "    tot, n = data.shape\n",
    "    \n",
    "    done = len(set(data[:,objective])) == 1\n",
    "    \n",
    "    #Cambiar condicion a ultima columna toda igual\n",
    "    if not done:\n",
    "        #Contamos, para cada columna y tipo de atributo objetivo, las frecuencias\n",
    "        count = [{} for i in range(n)]\n",
    "        for row in data:\n",
    "            res = row[objective]\n",
    "            for i in range(n):\n",
    "                if not i == objective:\n",
    "                    val = row[i]\n",
    "                    if val not in count[i].keys():\n",
    "                        count[i][val] = {}\n",
    "\n",
    "                    if res in count[i][val].keys():\n",
    "                        count[i][val][res] += 1\n",
    "                    else:\n",
    "                        count[i][val][res] = 1\n",
    "\n",
    "        minCol = -1\n",
    "        minE = np.inf\n",
    "        for i in range(n):\n",
    "            if not i == objective:\n",
    "                e = entropy(count[i], tot)\n",
    "                if e < minE:\n",
    "                    minE = e\n",
    "                    minCol = i\n",
    "\n",
    "        sigTablas = {}\n",
    "        for row in data:\n",
    "            newRow = [np.append(row[:minCol], row[minCol+1:])]\n",
    "            val = row[minCol]\n",
    "            try:\n",
    "                sigTablas[val] = np.append(sigTablas[val], newRow, axis = 0)\n",
    "            except Exception:\n",
    "                sigTablas[val] = np.array(newRow)\n",
    "\n",
    "        ans = {0 : att[minCol]}\n",
    "        newAtt = np.append(att[:minCol], att[minCol+1:])\n",
    "        newObj = objective\n",
    "        if objective > minCol:\n",
    "            newObj -= 1\n",
    "\n",
    "        for k, tab in sigTablas.items():\n",
    "            ans[k] = ID3(newAtt, tab, newObj)\n",
    "    else:\n",
    "        ans = data[0,objective]\n",
    "\n",
    "    return ans"
   ]
  },
  {
   "cell_type": "code",
   "execution_count": 11,
   "metadata": {},
   "outputs": [],
   "source": [
    "ans = ID3(att, data, objective)"
   ]
  },
  {
   "cell_type": "code",
   "execution_count": 12,
   "metadata": {},
   "outputs": [
    {
     "data": {
      "text/plain": [
       "{0: 'Presion',\n",
       " 'alta': {0: 'Gota', '1': '0', '0': '1'},\n",
       " 'normal': '1',\n",
       " 'baja': {0: 'Hipotiroidismo', '0': '1', '1': '0'}}"
      ]
     },
     "execution_count": 12,
     "metadata": {},
     "output_type": "execute_result"
    }
   ],
   "source": [
    "ans"
   ]
  }
 ],
 "metadata": {
  "kernelspec": {
   "display_name": "Python 3",
   "language": "python",
   "name": "python3"
  },
  "language_info": {
   "codemirror_mode": {
    "name": "ipython",
    "version": 3
   },
   "file_extension": ".py",
   "mimetype": "text/x-python",
   "name": "python",
   "nbconvert_exporter": "python",
   "pygments_lexer": "ipython3",
   "version": "3.6.5"
  }
 },
 "nbformat": 4,
 "nbformat_minor": 2
}
