{
 "cells": [
  {
   "cell_type": "code",
   "execution_count": 1,
   "metadata": {},
   "outputs": [],
   "source": [
    "import numpy as np"
   ]
  },
  {
   "cell_type": "code",
   "execution_count": 2,
   "metadata": {},
   "outputs": [
    {
     "name": "stdout",
     "output_type": "stream",
     "text": [
      "Se leyeron : 14 casos\n",
      "Los atributos son:\n",
      "\t0) Presion\n",
      "\t1) Urea\n",
      "\t2) Gota\n",
      "\t3) Hipotiroidismo\n",
      "\t4) Tratamiento\n",
      "Cual es el atributo objetivo?\n",
      "4\n"
     ]
    }
   ],
   "source": [
    "Datos = open('dataSets/ejemploClase.csv','r')\n",
    "\n",
    "att = np.array( Datos.readline().replace('\\n','').split(',') )\n",
    "\n",
    "d = Datos.read()\n",
    "data = np.array([r.split(',') for r in d.split('\\n')])\n",
    "\n",
    "print('Se leyeron : ' + str(data.shape[0]) + ' casos')\n",
    "\n",
    "Datos.close()\n",
    "\n",
    "print('Los atributos son:')\n",
    "for i in range(len(att)):\n",
    "    print('\\t' + str(i) + ') ' + att[i])\n",
    "\n",
    "objective = int(input('Cual es el atributo objetivo?\\n'))\n",
    "#Swappeamos\n",
    "data[:,objective], data[:,-1] = data[:,-1], data[:,objective].copy()\n",
    "att[objective], att[-1] = att[-1], att[objective].copy()"
   ]
  },
  {
   "cell_type": "code",
   "execution_count": 3,
   "metadata": {
    "scrolled": true
   },
   "outputs": [],
   "source": [
    "#Recibe el diccionario del atributo, regresa la entropia como (?)\n",
    "def entropy(attribute, tot):\n",
    "    e = 0\n",
    "    for ak in attribute.values():\n",
    "        aux = list(ak.values())\n",
    "        k = sum(aux)\n",
    "        aux = np.array(aux)/k\n",
    "        subtot = -k * np.sum(aux*np.log2(aux))\n",
    "        e += subtot\n",
    "    e = e/tot\n",
    "    return e"
   ]
  },
  {
   "cell_type": "code",
   "execution_count": 4,
   "metadata": {},
   "outputs": [],
   "source": [
    "#Optimizar siempre la ultima columna\n",
    "def ID3(att, data):   \n",
    "    #Numero de atributos\n",
    "    tot, n = data.shape\n",
    "    \n",
    "    done = len(set(data[:,-1])) == 1\n",
    "    \n",
    "    if not done:\n",
    "        \n",
    "        if n == 1:\n",
    "            return 'No se sabe'\n",
    "        else:\n",
    "            #Contamos, para cada columna y tipo de atributo objetivo, las frecuencias\n",
    "            count = [{} for i in range(n)]\n",
    "            for row in data:\n",
    "                res = row[-1]\n",
    "                for i in range(n-1):\n",
    "                    val = row[i]\n",
    "                    if val not in count[i].keys():\n",
    "                        count[i][val] = {}\n",
    "                    \n",
    "                    try:\n",
    "                        count[i][val][res] += 1\n",
    "                    except Exception:\n",
    "                        count[i][val][res] = 1\n",
    "            \n",
    "            minCol = -1\n",
    "            minE = np.inf\n",
    "            for i in range(n-1):\n",
    "                e = entropy(count[i], tot)\n",
    "                if e < minE:\n",
    "                    minE = e\n",
    "                    minCol = i\n",
    "\n",
    "            sigTablas = {}\n",
    "            for row in data:\n",
    "                newRow = [np.append(row[:minCol], row[minCol+1:])]\n",
    "                val = row[minCol]\n",
    "                try:\n",
    "                    sigTablas[val] = np.append(sigTablas[val], newRow, axis = 0)\n",
    "                except Exception:\n",
    "                    sigTablas[val] = np.array(newRow)\n",
    "\n",
    "            ans = {0 : att[minCol]}\n",
    "\n",
    "            newAtt = np.append(att[:minCol], att[minCol+1:])\n",
    "\n",
    "            for k, tab in sigTablas.items():\n",
    "                ans[k] = ID3(newAtt, tab)\n",
    "        \n",
    "        \n",
    "    else:\n",
    "        \n",
    "        ans = att[-1] + ' es ' + data[0,-1]\n",
    "\n",
    "    return ans"
   ]
  },
  {
   "cell_type": "code",
   "execution_count": 5,
   "metadata": {
    "scrolled": true
   },
   "outputs": [],
   "source": [
    "ans = ID3(att, data)"
   ]
  },
  {
   "cell_type": "code",
   "execution_count": 6,
   "metadata": {
    "scrolled": true
   },
   "outputs": [
    {
     "data": {
      "text/plain": [
       "{0: 'Presion',\n",
       " 'alta': {0: 'Gota',\n",
       "  'verdadero': 'Tratamiento es falso',\n",
       "  'falso': 'Tratamiento es verdadero'},\n",
       " 'normal': 'Tratamiento es verdadero',\n",
       " 'baja': {0: 'Hipotiroidismo',\n",
       "  'falso': 'Tratamiento es verdadero',\n",
       "  'verdadero': 'Tratamiento es falso'}}"
      ]
     },
     "execution_count": 6,
     "metadata": {},
     "output_type": "execute_result"
    }
   ],
   "source": [
    "ans"
   ]
  },
  {
   "cell_type": "code",
   "execution_count": 7,
   "metadata": {},
   "outputs": [],
   "source": [
    "def reglas(d):\n",
    "    r = []\n",
    "    \n",
    "    if isinstance(d, str):\n",
    "        return ['entonces ' + d]\n",
    "    else: \n",
    "        prefix =  d[0] + ' es '\n",
    "    \n",
    "    for att, sub in d.items():\n",
    "        if not att == 0:\n",
    "            subreg = reglas(sub)\n",
    "            aux = prefix + att + ', '\n",
    "\n",
    "            for s in subreg:\n",
    "                r.append(aux + s)\n",
    "    \n",
    "    return r"
   ]
  },
  {
   "cell_type": "code",
   "execution_count": 8,
   "metadata": {
    "scrolled": true
   },
   "outputs": [
    {
     "name": "stdout",
     "output_type": "stream",
     "text": [
      "Si Presion es alta, Gota es verdadero, entonces Tratamiento es falso\n",
      "Si Presion es alta, Gota es falso, entonces Tratamiento es verdadero\n",
      "Si Presion es normal, entonces Tratamiento es verdadero\n",
      "Si Presion es baja, Hipotiroidismo es falso, entonces Tratamiento es verdadero\n",
      "Si Presion es baja, Hipotiroidismo es verdadero, entonces Tratamiento es falso\n"
     ]
    }
   ],
   "source": [
    "for r in reglas(ans):\n",
    "    print('Si '+r)"
   ]
  },
  {
   "cell_type": "code",
   "execution_count": 9,
   "metadata": {
    "scrolled": true
   },
   "outputs": [
    {
     "name": "stdout",
     "output_type": "stream",
     "text": [
      "Prueba: \n",
      "Deme el atributo (Presion):\n",
      "alta\n",
      "Deme el atributo (Gota):\n",
      "falso\n",
      "Tratamiento es verdadero\n"
     ]
    }
   ],
   "source": [
    "print('Prueba: ')\n",
    "pregunta = ans\n",
    "\n",
    "while isinstance(pregunta, dict):\n",
    "    val = input('Deme el atributo (' + pregunta[0] + '):\\n')\n",
    "    \n",
    "    try:\n",
    "        pregunta = pregunta[val]\n",
    "    except Exception:\n",
    "        'Valor del atributo desconocido/ No puedo responder'\n",
    "\n",
    "print(pregunta)"
   ]
  }
 ],
 "metadata": {
  "kernelspec": {
   "display_name": "Python 3",
   "language": "python",
   "name": "python3"
  },
  "language_info": {
   "codemirror_mode": {
    "name": "ipython",
    "version": 3
   },
   "file_extension": ".py",
   "mimetype": "text/x-python",
   "name": "python",
   "nbconvert_exporter": "python",
   "pygments_lexer": "ipython3",
   "version": "3.6.5"
  }
 },
 "nbformat": 4,
 "nbformat_minor": 2
}
