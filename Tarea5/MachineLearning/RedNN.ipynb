{
 "cells": [
  {
   "cell_type": "code",
   "execution_count": 4,
   "metadata": {},
   "outputs": [],
   "source": [
    "import pandas as pd\n",
    "import tensorflow as tf\n",
    "\n",
    "#shapes_dataframe=\n",
    "shapes_dataframe=shapes.dataframe.reindex(np.random.permutation(shape_dataframe.index))\n",
    "\n",
    "shapes_dataframe=shapes.dataframe.head(10000)\n",
    "shapes_dataframe_test=shapes.dataframe.tail(6000)"
   ]
  },
  {
   "cell_type": "code",
   "execution_count": null,
   "metadata": {},
   "outputs": [],
   "source": [
    "def input_fn(dataset):\n",
    "    labels = dataset[0]\n",
    "\n",
    "    features = dataset.loc[:,1:40000]\n",
    "        \n",
    "    return labels, features"
   ]
  },
  {
   "cell_type": "code",
   "execution_count": null,
   "metadata": {},
   "outputs": [],
   "source": []
  },
  {
   "cell_type": "code",
   "execution_count": null,
   "metadata": {},
   "outputs": [],
   "source": [
    "def cnn_model_fn(features,labels,mode):\n",
    "    \n",
    "    #Input layer\n",
    "    input_layer=tf.reshape(features[\"x\"],[-1,200,200,1])\n",
    "    "
   ]
  }
 ],
 "metadata": {
  "kernelspec": {
   "display_name": "Python 3",
   "language": "python",
   "name": "python3"
  },
  "language_info": {
   "codemirror_mode": {
    "name": "ipython",
    "version": 3
   },
   "file_extension": ".py",
   "mimetype": "text/x-python",
   "name": "python",
   "nbconvert_exporter": "python",
   "pygments_lexer": "ipython3",
   "version": "3.6.4"
  }
 },
 "nbformat": 4,
 "nbformat_minor": 2
}
