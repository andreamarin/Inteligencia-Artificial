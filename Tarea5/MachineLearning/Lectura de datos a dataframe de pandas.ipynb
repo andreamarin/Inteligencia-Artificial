{
 "cells": [
  {
   "cell_type": "code",
   "execution_count": 1,
   "metadata": {},
   "outputs": [],
   "source": [
    "import numpy as np\n",
    "from PIL import Image"
   ]
  },
  {
   "cell_type": "code",
   "execution_count": 2,
   "metadata": {},
   "outputs": [],
   "source": [
    "#0 es circulo, 1 es cuadrado, 2 es estrella, 3 es triangulo\n",
    "Folders = ['circle/', 'square/', 'star/', 'triangle/']\n",
    "numFig = [3720, 3765, 3765, 3720]\n",
    "labels = [0, 1, 2, 3]\n",
    "tot = sum(numFig)"
   ]
  },
  {
   "cell_type": "code",
   "execution_count": 3,
   "metadata": {},
   "outputs": [
    {
     "data": {
      "text/plain": [
       "14970"
      ]
     },
     "execution_count": 3,
     "metadata": {},
     "output_type": "execute_result"
    }
   ],
   "source": [
    "tot"
   ]
  },
  {
   "cell_type": "code",
   "execution_count": 4,
   "metadata": {},
   "outputs": [],
   "source": [
    "prefix = 'unprocessedData/'\n",
    "data = []\n",
    "for f, n, y in zip(Folders, numFig, labels):\n",
    "    path = prefix + f\n",
    "    for i in range(n):\n",
    "        img = Image.open(path + str(i) + '.png')\n",
    "        newRow = np.append(np.uint8(y), np.asarray(img).flatten())\n",
    "        img.close()\n",
    "        data.append(newRow)"
   ]
  },
  {
   "cell_type": "code",
   "execution_count": 5,
   "metadata": {},
   "outputs": [],
   "source": [
    "data = np.array(data)"
   ]
  },
  {
   "cell_type": "code",
   "execution_count": 6,
   "metadata": {
    "scrolled": true
   },
   "outputs": [
    {
     "data": {
      "text/plain": [
       "(14970, 40001)"
      ]
     },
     "execution_count": 6,
     "metadata": {},
     "output_type": "execute_result"
    }
   ],
   "source": [
    "data.shape"
   ]
  },
  {
   "cell_type": "code",
   "execution_count": 7,
   "metadata": {
    "scrolled": true
   },
   "outputs": [
    {
     "data": {
      "text/plain": [
       "array([[  0, 255, 255, ..., 255, 255, 255],\n",
       "       [  0, 255, 255, ..., 255, 255, 255],\n",
       "       [  0, 255, 255, ..., 255, 255, 255],\n",
       "       ...,\n",
       "       [  3, 255, 255, ..., 255, 255, 255],\n",
       "       [  3, 255, 255, ..., 255, 255, 255],\n",
       "       [  3, 255, 255, ..., 255, 255, 255]], dtype=uint8)"
      ]
     },
     "execution_count": 7,
     "metadata": {},
     "output_type": "execute_result"
    }
   ],
   "source": [
    "data"
   ]
  },
  {
   "cell_type": "code",
   "execution_count": 8,
   "metadata": {},
   "outputs": [],
   "source": [
    "np.random.shuffle(data)"
   ]
  },
  {
   "cell_type": "code",
   "execution_count": 9,
   "metadata": {},
   "outputs": [
    {
     "data": {
      "text/plain": [
       "array([[  0, 255, 255, ..., 255, 255, 255],\n",
       "       [  1, 255, 255, ..., 255, 255, 255],\n",
       "       [  2, 255, 255, ..., 255, 255, 255],\n",
       "       ...,\n",
       "       [  3, 255, 255, ..., 255, 255, 255],\n",
       "       [  3, 255, 255, ..., 255, 255, 255],\n",
       "       [  3, 255, 255, ..., 255, 255, 255]], dtype=uint8)"
      ]
     },
     "execution_count": 9,
     "metadata": {},
     "output_type": "execute_result"
    }
   ],
   "source": [
    "data"
   ]
  },
  {
   "cell_type": "code",
   "execution_count": 10,
   "metadata": {},
   "outputs": [],
   "source": [
    "#Guarda el binario del dataset en figsfull.npy\n",
    "np.save('dataset/figsFull.npy',data)"
   ]
  },
  {
   "cell_type": "code",
   "execution_count": null,
   "metadata": {},
   "outputs": [],
   "source": []
  }
 ],
 "metadata": {
  "kernelspec": {
   "display_name": "Python 3",
   "language": "python",
   "name": "python3"
  },
  "language_info": {
   "codemirror_mode": {
    "name": "ipython",
    "version": 3
   },
   "file_extension": ".py",
   "mimetype": "text/x-python",
   "name": "python",
   "nbconvert_exporter": "python",
   "pygments_lexer": "ipython3",
   "version": "3.6.5"
  }
 },
 "nbformat": 4,
 "nbformat_minor": 2
}
